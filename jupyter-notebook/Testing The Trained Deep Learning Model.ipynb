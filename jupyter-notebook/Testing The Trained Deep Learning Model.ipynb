{
 "cells": [
  {
   "cell_type": "code",
   "execution_count": 1,
   "id": "b007e2cb",
   "metadata": {
    "scrolled": true
   },
   "outputs": [],
   "source": [
    "import warnings\n",
    "warnings.filterwarnings(\"ignore\")\n",
    "from ml_utils import *"
   ]
  },
  {
   "cell_type": "code",
   "execution_count": 2,
   "id": "5b844b79",
   "metadata": {},
   "outputs": [
    {
     "name": "stdout",
     "output_type": "stream",
     "text": [
      "1/1 [==============================] - 0s 205ms/step\n",
      "[[0.8818182]]\n",
      "[[1.]]\n",
      "Exited\n"
     ]
    }
   ],
   "source": [
    "DeepNN = models.load_model('DeepNN.h5', custom_objects={'F1': F1})\n",
    "scaler = joblib.load('scalerDeepNN.joblib')\n",
    "\n",
    "# CreditScore,Age,Tenure,Balance,NumOfProducts,HasCrCard,IsActiveMember,EstimatedSalary,\n",
    "# Geography_Germany,Geography_Spain,Gender_Male\n",
    "input_data = np.array([[653,58,1,132602.88,1,1,0,5097.67,1,0,1]])\n",
    "\n",
    "std_data = scaler.transform(input_data)\n",
    "prediction = DeepNN.predict(std_data)\n",
    "print(prediction)\n",
    "\n",
    "prediction_label = np.round(prediction)\n",
    "print(prediction_label)\n",
    "\n",
    "if(prediction_label[0] == 0):\n",
    "    print('Not Exited')\n",
    "else:\n",
    "    print('Exited')"
   ]
  }
 ],
 "metadata": {
  "kernelspec": {
   "display_name": "Python 3 (ipykernel)",
   "language": "python",
   "name": "python3"
  },
  "language_info": {
   "codemirror_mode": {
    "name": "ipython",
    "version": 3
   },
   "file_extension": ".py",
   "mimetype": "text/x-python",
   "name": "python",
   "nbconvert_exporter": "python",
   "pygments_lexer": "ipython3",
   "version": "3.10.9"
  }
 },
 "nbformat": 4,
 "nbformat_minor": 5
}
